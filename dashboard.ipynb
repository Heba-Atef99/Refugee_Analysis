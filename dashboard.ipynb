{
  "cells": [
    {
      "cell_type": "code",
      "execution_count": 1,
      "metadata": {
        "id": "4BNvZZDncuAt"
      },
      "outputs": [],
      "source": [
        "from dash import html, dcc, Dash\n",
        "from dash.dependencies import Input, Output, State\n",
        "import dash_bootstrap_components as dbc\n",
        "\n",
        "import pandas as pd\n",
        "import plotly.express as px\n",
        "import plotly.io as pio\n",
        "import plotly.graph_objects as go"
      ]
    },
    {
      "cell_type": "markdown",
      "metadata": {
        "id": "WX152CawcuA0"
      },
      "source": [
        "# Dashboard"
      ]
    },
    {
      "cell_type": "code",
      "execution_count": 2,
      "metadata": {
        "id": "a-yvE7nLcuA3"
      },
      "outputs": [],
      "source": [
        "app = Dash(external_stylesheets=[dbc.themes.BOOTSTRAP], title=\"2022 Wars Effect\")"
      ]
    },
    {
      "attachments": {},
      "cell_type": "markdown",
      "metadata": {},
      "source": [
        "## Import Needed Data"
      ]
    },
    {
      "cell_type": "code",
      "execution_count": 3,
      "metadata": {},
      "outputs": [],
      "source": [
        "df = pd.read_csv('data/population.csv')\n",
        "df_all_years = pd.read_csv('data/all_years_population.csv')\n",
        "lons_lats = pd.read_csv('data/countries_codes_and_coordinates.csv',  sep=',', engine='python')"
      ]
    },
    {
      "attachments": {},
      "cell_type": "markdown",
      "metadata": {},
      "source": [
        "### Data Preprocess"
      ]
    },
    {
      "cell_type": "code",
      "execution_count": 4,
      "metadata": {},
      "outputs": [],
      "source": [
        "for col in lons_lats.columns:\n",
        "    lons_lats[col] = lons_lats[col].str.replace('\"', '').str.strip()\n",
        "\n",
        "lons_lats['Latitude (average)'] = lons_lats['Latitude (average)'].astype(float)\n",
        "lons_lats['Longitude (average)'] = lons_lats['Longitude (average)'].astype(float)"
      ]
    },
    {
      "attachments": {},
      "cell_type": "markdown",
      "metadata": {
        "id": "jYn-Lh1WcuA4"
      },
      "source": [
        "## Title"
      ]
    },
    {
      "cell_type": "code",
      "execution_count": 5,
      "metadata": {},
      "outputs": [],
      "source": [
        "title = dbc.Container(\n",
        "    [\n",
        "        dbc.Row(\n",
        "            [\n",
        "                html.H1(\"2022 Wars Effect\", style={\"font-family\": \"serif\", \"text-align\": \"center\", 'color': '#C10000'})\n",
        "            ], className=\"mt-3\")\n",
        "    ]\n",
        ")"
      ]
    },
    {
      "attachments": {},
      "cell_type": "markdown",
      "metadata": {},
      "source": [
        "## Analysis Tab"
      ]
    },
    {
      "attachments": {},
      "cell_type": "markdown",
      "metadata": {},
      "source": [
        "### Asylum-seekers, Refugees, IDPs along the years"
      ]
    },
    {
      "cell_type": "code",
      "execution_count": 6,
      "metadata": {},
      "outputs": [],
      "source": [
        "total_three = df_all_years.groupby('Year').agg({'Asylum-seekers': 'sum', \"Refugees under UNHCR's mandate\": 'sum', \"IDPs of concern to UNHCR\": 'sum'})\n",
        "three_lines_plot = px.line(data_frame=total_three, y=['Asylum-seekers', \"Refugees under UNHCR's mandate\", \"IDPs of concern to UNHCR\"])"
      ]
    },
    {
      "cell_type": "code",
      "execution_count": 7,
      "metadata": {},
      "outputs": [],
      "source": [
        "plot_3 = dbc.Row([\n",
        "    dcc.Graph(id='line_plot', figure=three_lines_plot)\n",
        "])"
      ]
    },
    {
      "attachments": {},
      "cell_type": "markdown",
      "metadata": {},
      "source": [
        "### IDPs"
      ]
    },
    {
      "cell_type": "code",
      "execution_count": 8,
      "metadata": {},
      "outputs": [],
      "source": [
        "idps = df_all_years[df_all_years['Year'] > 2020].groupby('Country of origin').agg({'IDPs of concern to UNHCR': 'sum'}).sort_values('IDPs of concern to UNHCR', ascending=False)\n",
        "idps = idps.reset_index()\n",
        "\n",
        "idps['color_seq'] = '#609cd4'\n",
        "idps.loc[idps['Country of origin'] == 'Syrian Arab Rep.', 'color_seq'] = '#d62728'"
      ]
    },
    {
      "cell_type": "code",
      "execution_count": 9,
      "metadata": {},
      "outputs": [],
      "source": [
        "def plot_idb(idps):\n",
        "    idb_plot = px.bar(data_frame=idps, x = 'Country of origin', y=\"IDPs of concern to UNHCR\", title='IDPs in The Last Three Years', color = 'Country of origin', color_discrete_sequence=idps['color_seq'].values)\n",
        "    idb_plot.update_layout(title_text='IDPs In The Last Three Years', title_x=0.5)\n",
        "    return idb_plot"
      ]
    },
    {
      "cell_type": "code",
      "execution_count": 10,
      "metadata": {},
      "outputs": [],
      "source": [
        "default_idps= plot_idb(idps.iloc[:10])"
      ]
    },
    {
      "cell_type": "code",
      "execution_count": 11,
      "metadata": {},
      "outputs": [],
      "source": [
        "default_countries = idps.iloc[:10, 0].tolist()\n",
        "countries = idps.iloc[:, 0].unique().tolist()"
      ]
    },
    {
      "cell_type": "code",
      "execution_count": 12,
      "metadata": {},
      "outputs": [],
      "source": [
        "plot_4 = dbc.Col([\n",
        "    dbc.Row([dcc.Dropdown(countries, value=default_countries, id='idp_countries', multi=True)], style={\"padding-right\": \"50px\"}),\n",
        "    dbc.Row([dcc.Graph(id='idp_plot', figure=default_idps)])\n",
        "], className='col-6 p-0')"
      ]
    },
    {
      "cell_type": "code",
      "execution_count": 13,
      "metadata": {},
      "outputs": [],
      "source": [
        "@app.callback(\n",
        "Output(component_id = \"idp_plot\" , component_property = \"figure\"),\n",
        "Input(component_id = \"idp_countries\" , component_property = \"value\"),\n",
        ")\n",
        "def update_map(countries):\n",
        "    new_idps = idps[idps['Country of origin'].isin(countries)]\n",
        "    new_fig= plot_idb(new_idps)\n",
        "    return new_fig"
      ]
    },
    {
      "attachments": {},
      "cell_type": "markdown",
      "metadata": {},
      "source": [
        "### Migrations Connections"
      ]
    },
    {
      "cell_type": "code",
      "execution_count": 14,
      "metadata": {},
      "outputs": [],
      "source": [
        "iso_loc = lons_lats[['Alpha-3 code', 'Latitude (average)', 'Longitude (average)', 'Country']]\n",
        "isos_original = df_all_years[['Country of origin (ISO)', 'Country of asylum (ISO)']]"
      ]
    },
    {
      "cell_type": "code",
      "execution_count": 15,
      "metadata": {},
      "outputs": [],
      "source": [
        "def create_map(source_iso='SYR'):\n",
        "  country_name = iso_loc.loc[iso_loc['Alpha-3 code'] == source_iso, 'Country'].iloc[0]\n",
        "  isos_customized = isos_original[isos_original['Country of origin (ISO)'] == source_iso].drop_duplicates()\n",
        "  df_cd = pd.merge(isos_customized, iso_loc, how='left', left_on = 'Country of asylum (ISO)', right_on = 'Alpha-3 code')\n",
        "\n",
        "  mig_fig = go.Figure()\n",
        "\n",
        "  dest = zip(df_cd[\"Latitude (average)\"], df_cd[\"Longitude (average)\"])\n",
        "  source_lat_long = iso_loc[iso_loc['Alpha-3 code'] == source_iso]\n",
        "  slat, slon =source_lat_long.iloc[0, 1:3]\n",
        "\n",
        "  ## Loop thorugh each flight entry to add line between source and destination\n",
        "  for dlat, dlon in dest:\n",
        "      mig_fig.add_trace(go.Scattergeo(\n",
        "                          lat = [slat,dlat],\n",
        "                          lon = [slon, dlon],\n",
        "                          mode = 'lines',\n",
        "                          line = dict(width = 1, color=\"red\")\n",
        "                          ))\n",
        "\n",
        "  ## Loop thorugh each flight entry to plot source and destination as points.\n",
        "  mig_fig.add_trace(\n",
        "      go.Scattergeo(\n",
        "                  lon =  df_cd[\"Longitude (average)\"].values.tolist(),\n",
        "                  lat =  df_cd[\"Latitude (average)\"].values.tolist(),\n",
        "                  hoverinfo = 'text',\n",
        "                  text = df_cd['Country'],\n",
        "                  mode = 'markers',\n",
        "                  marker = dict(size = 5, color = 'blue', opacity=0.6))\n",
        "      )\n",
        "\n",
        "  ## Update graph layout to improve graph styling.\n",
        "  mig_fig.update_layout(\n",
        "                    title_text= country_name + \" Refuegees' Destination\",\n",
        "                    margin={\"t\":40,\"b\":0,\"l\":0, \"r\":0, \"pad\":0},\n",
        "                    showlegend=False,\n",
        "                    title_x=0.5\n",
        "                    )\n",
        "\n",
        "  mig_fig.update_geos(projection_type=\"natural earth\")\n",
        "\n",
        "  return mig_fig"
      ]
    },
    {
      "cell_type": "code",
      "execution_count": 16,
      "metadata": {},
      "outputs": [],
      "source": [
        "origin_countries = df_all_years[['Country of origin', 'Country of origin (ISO)']].drop_duplicates().sort_values('Country of origin')\n",
        "i = origin_countries[origin_countries['Country of origin'] == 'Stateless'].index[0]\n",
        "origin_countries = origin_countries.drop(0)\n",
        "origin_countries = origin_countries.drop(i)"
      ]
    },
    {
      "cell_type": "code",
      "execution_count": 17,
      "metadata": {},
      "outputs": [],
      "source": [
        "origin_countries = origin_countries.set_index('Country of origin (ISO)')\n",
        "options_df = origin_countries.to_dict()"
      ]
    },
    {
      "cell_type": "code",
      "execution_count": 18,
      "metadata": {},
      "outputs": [],
      "source": [
        "default_fig = create_map()"
      ]
    },
    {
      "cell_type": "code",
      "execution_count": 19,
      "metadata": {},
      "outputs": [],
      "source": [
        "plot_5 = dbc.Col([\n",
        "    dbc.Row([dcc.Dropdown(options_df['Country of origin'], value='SYR', id='source_country')]),\n",
        "    dbc.Row([dcc.Graph(id='mig_plot', figure=default_fig)]),\n",
        "], className='col-6 p-0')"
      ]
    },
    {
      "cell_type": "code",
      "execution_count": 20,
      "metadata": {},
      "outputs": [],
      "source": [
        "@app.callback(\n",
        "Output(component_id = \"mig_plot\" , component_property = \"figure\"),\n",
        "Input(component_id = \"source_country\" , component_property = \"value\"),\n",
        ")\n",
        "def update_map(country_iso):\n",
        "    print(country_iso)\n",
        "    new_fig = create_map(country_iso)\n",
        "    return new_fig"
      ]
    },
    {
      "attachments": {},
      "cell_type": "markdown",
      "metadata": {},
      "source": [
        "### Last Row in Analysis"
      ]
    },
    {
      "cell_type": "code",
      "execution_count": 21,
      "metadata": {},
      "outputs": [],
      "source": [
        "last_row = dbc.Row([\n",
        "    plot_4,\n",
        "    plot_5\n",
        "])"
      ]
    },
    {
      "attachments": {},
      "cell_type": "markdown",
      "metadata": {},
      "source": [
        "## Donation Tab"
      ]
    },
    {
      "attachments": {},
      "cell_type": "markdown",
      "metadata": {},
      "source": [
        "### IDPs Video"
      ]
    },
    {
      "cell_type": "code",
      "execution_count": 22,
      "metadata": {},
      "outputs": [],
      "source": [
        "# donation_vid = dbc.Row([\n",
        "#     html.H1(\"Who are Internally Displaced People?\", style={\"font-family\": \"serif\", \"text-align\": \"center\"}),\n",
        "#     html.Iframe(src='https://www.youtube.com/embed/DCzpVQkencw', height=315, width=690)\n",
        "# ], style={'align-items': 'center', 'margin': 'auto', 'width':'50%'})"
      ]
    },
    {
      "cell_type": "code",
      "execution_count": 23,
      "metadata": {},
      "outputs": [],
      "source": [
        "donation_vid = dbc.Row([\n",
        "    dbc.Col([ \n",
        "        html.H3(\"Who are Internally Displaced People?\", style={\"font-family\": \"serif\", \"text-align\": \"center\"})\n",
        "    ]),\n",
        "    dbc.Col([ \n",
        "        html.Iframe(src='https://www.youtube.com/embed/DCzpVQkencw', height=315, width=690)\n",
        "    ])\n",
        "], style={'align-items': 'center'})"
      ]
    },
    {
      "attachments": {},
      "cell_type": "markdown",
      "metadata": {},
      "source": [
        "### Charities"
      ]
    },
    {
      "cell_type": "code",
      "execution_count": 24,
      "metadata": {},
      "outputs": [],
      "source": [
        "ch_title = html.Div([   \n",
        "                # html.H2('Help Syrians!', style={\"font-family\": \"serif\", \"text-align\": \"center\"})         \n",
        "            html.Span('Help ', className='h2', style={\"font-family\": \"serif\", \"text-align\": \"center\"}),\n",
        "            html.Span('Syria ', className='h1', style={\"font-family\": \"serif\", \"text-align\": \"center\", 'color': '#C10000'}),\n",
        "            html.Span('!', className='h2', style={\"font-family\": \"serif\", \"text-align\": \"center\"})\n",
        "], style={'text-align': 'center'})"
      ]
    },
    {
      "cell_type": "markdown",
      "metadata": {
        "id": "fqVwHer-cuA9"
      },
      "source": [
        "## Tabs"
      ]
    },
    {
      "cell_type": "code",
      "execution_count": 25,
      "metadata": {
        "id": "wLkapHgocuA_"
      },
      "outputs": [],
      "source": [
        "analysis_content = dbc.Card(\n",
        "    dbc.CardBody(\n",
        "        [\n",
        "            dbc.Container([\n",
        "                #plot_1, 2,\n",
        "                plot_3,\n",
        "                last_row\n",
        "            ])\n",
        "        ]\n",
        "    ),\n",
        "    className=\"mt-3\",\n",
        ")\n",
        "\n",
        "donation_content = dbc.Card(\n",
        "    dbc.CardBody(\n",
        "        [\n",
        "            donation_vid,\n",
        "            html.Hr(),\n",
        "            ch_title\n",
        "        ]\n",
        "    ),\n",
        "    className=\"mt-3\",\n",
        ")\n",
        "\n",
        "tabs = dbc.Tabs(\n",
        "    [\n",
        "        dbc.Tab(analysis_content, label=\"Analysis\"),\n",
        "        dbc.Tab(donation_content, label=\"Donation\")\n",
        "    ]\n",
        ")"
      ]
    },
    {
      "cell_type": "code",
      "execution_count": 26,
      "metadata": {
        "id": "Jp4g5e3mcuBA"
      },
      "outputs": [],
      "source": [
        "app.layout = html.Div(children=[\n",
        "    title,\n",
        "    html.Div(tabs, style={'margin': '0px 30px'})\n",
        "])"
      ]
    },
    {
      "attachments": {},
      "cell_type": "markdown",
      "metadata": {},
      "source": [
        "# Run Server"
      ]
    },
    {
      "cell_type": "code",
      "execution_count": 27,
      "metadata": {},
      "outputs": [
        {
          "name": "stdout",
          "output_type": "stream",
          "text": [
            "Dash is running on http://127.0.0.1:8050/\n",
            "\n",
            " * Serving Flask app \"__main__\" (lazy loading)\n",
            " * Environment: production\n",
            "\u001b[31m   WARNING: This is a development server. Do not use it in a production deployment.\u001b[0m\n",
            "\u001b[2m   Use a production WSGI server instead.\u001b[0m\n",
            " * Debug mode: off\n"
          ]
        },
        {
          "name": "stderr",
          "output_type": "stream",
          "text": [
            " * Running on http://127.0.0.1:8050/ (Press CTRL+C to quit)\n"
          ]
        }
      ],
      "source": [
        "app.run_server()"
      ]
    },
    {
      "cell_type": "code",
      "execution_count": null,
      "metadata": {},
      "outputs": [],
      "source": []
    },
    {
      "cell_type": "code",
      "execution_count": null,
      "metadata": {},
      "outputs": [],
      "source": []
    }
  ],
  "metadata": {
    "colab": {
      "provenance": []
    },
    "kernelspec": {
      "display_name": "try",
      "language": "python",
      "name": "python3"
    },
    "language_info": {
      "codemirror_mode": {
        "name": "ipython",
        "version": 3
      },
      "file_extension": ".py",
      "mimetype": "text/x-python",
      "name": "python",
      "nbconvert_exporter": "python",
      "pygments_lexer": "ipython3",
      "version": "3.9.7"
    },
    "vscode": {
      "interpreter": {
        "hash": "200a82db256eb3265b4550f1d4b97313489e3e78e9bc57877291979c0c710f12"
      }
    }
  },
  "nbformat": 4,
  "nbformat_minor": 0
}
